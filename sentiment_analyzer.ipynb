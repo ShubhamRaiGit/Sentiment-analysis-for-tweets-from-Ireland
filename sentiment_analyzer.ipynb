{
 "cells": [
  {
   "cell_type": "code",
   "execution_count": 23,
   "id": "7f6693b9",
   "metadata": {},
   "outputs": [
    {
     "name": "stdout",
     "output_type": "stream",
     "text": [
      "Python 3.7.0\n"
     ]
    }
   ],
   "source": [
    "! python --version"
   ]
  },
  {
   "cell_type": "code",
   "execution_count": 24,
   "id": "a797c047",
   "metadata": {},
   "outputs": [],
   "source": [
    "! venv\\Scripts\\activate.bat"
   ]
  },
  {
   "cell_type": "code",
   "execution_count": 24,
   "id": "461cd439",
   "metadata": {},
   "outputs": [],
   "source": []
  },
  {
   "cell_type": "code",
   "execution_count": 25,
   "id": "07317e63",
   "metadata": {
    "execution": {
     "iopub.execute_input": "2021-10-12T16:59:29.576715Z",
     "iopub.status.busy": "2021-10-12T16:59:29.576092Z",
     "iopub.status.idle": "2021-10-12T16:59:30.477597Z",
     "shell.execute_reply": "2021-10-12T16:59:30.478156Z",
     "shell.execute_reply.started": "2021-10-12T16:10:04.255112Z"
    },
    "papermill": {
     "duration": 0.924855,
     "end_time": "2021-10-12T16:59:30.478341",
     "exception": false,
     "start_time": "2021-10-12T16:59:29.553486",
     "status": "completed"
    },
    "tags": []
   },
   "outputs": [],
   "source": [
    "import pandas as pd \n",
    "from sklearn.feature_extraction.text import TfidfVectorizer\n",
    "import re\n",
    "import string\n",
    "from sklearn.metrics import accuracy_score, confusion_matrix\n",
    "from sklearn.model_selection import train_test_split as tts\n",
    "import pickle\n",
    "from sklearn.linear_model import LogisticRegression\n",
    "from sklearn.feature_extraction import text"
   ]
  },
  {
   "cell_type": "code",
   "execution_count": 26,
   "id": "66fc4c68",
   "metadata": {
    "execution": {
     "iopub.execute_input": "2021-10-12T16:59:30.519927Z",
     "iopub.status.busy": "2021-10-12T16:59:30.519274Z",
     "iopub.status.idle": "2021-10-12T16:59:32.215637Z",
     "shell.execute_reply": "2021-10-12T16:59:32.216200Z",
     "shell.execute_reply.started": "2021-10-12T16:11:24.328699Z"
    },
    "papermill": {
     "duration": 1.719864,
     "end_time": "2021-10-12T16:59:32.216389",
     "exception": false,
     "start_time": "2021-10-12T16:59:30.496525",
     "status": "completed"
    },
    "tags": []
   },
   "outputs": [],
   "source": [
    "data = pd.read_csv(\"IMDB Dataset.csv\")"
   ]
  },
  {
   "cell_type": "code",
   "execution_count": 27,
   "id": "04463c5f",
   "metadata": {
    "execution": {
     "iopub.execute_input": "2021-10-12T16:59:32.261677Z",
     "iopub.status.busy": "2021-10-12T16:59:32.261000Z",
     "iopub.status.idle": "2021-10-12T16:59:32.272555Z",
     "shell.execute_reply": "2021-10-12T16:59:32.273131Z",
     "shell.execute_reply.started": "2021-10-12T16:11:47.541173Z"
    },
    "papermill": {
     "duration": 0.038551,
     "end_time": "2021-10-12T16:59:32.273309",
     "exception": false,
     "start_time": "2021-10-12T16:59:32.234758",
     "status": "completed"
    },
    "tags": []
   },
   "outputs": [
    {
     "data": {
      "text/plain": "                                              review sentiment\n0  One of the other reviewers has mentioned that ...  positive\n1  A wonderful little production. <br /><br />The...  positive\n2  I thought this was a wonderful way to spend ti...  positive\n3  Basically there's a family where a little boy ...  negative\n4  Petter Mattei's \"Love in the Time of Money\" is...  positive",
      "text/html": "<div>\n<style scoped>\n    .dataframe tbody tr th:only-of-type {\n        vertical-align: middle;\n    }\n\n    .dataframe tbody tr th {\n        vertical-align: top;\n    }\n\n    .dataframe thead th {\n        text-align: right;\n    }\n</style>\n<table border=\"1\" class=\"dataframe\">\n  <thead>\n    <tr style=\"text-align: right;\">\n      <th></th>\n      <th>review</th>\n      <th>sentiment</th>\n    </tr>\n  </thead>\n  <tbody>\n    <tr>\n      <th>0</th>\n      <td>One of the other reviewers has mentioned that ...</td>\n      <td>positive</td>\n    </tr>\n    <tr>\n      <th>1</th>\n      <td>A wonderful little production. &lt;br /&gt;&lt;br /&gt;The...</td>\n      <td>positive</td>\n    </tr>\n    <tr>\n      <th>2</th>\n      <td>I thought this was a wonderful way to spend ti...</td>\n      <td>positive</td>\n    </tr>\n    <tr>\n      <th>3</th>\n      <td>Basically there's a family where a little boy ...</td>\n      <td>negative</td>\n    </tr>\n    <tr>\n      <th>4</th>\n      <td>Petter Mattei's \"Love in the Time of Money\" is...</td>\n      <td>positive</td>\n    </tr>\n  </tbody>\n</table>\n</div>"
     },
     "execution_count": 27,
     "metadata": {},
     "output_type": "execute_result"
    }
   ],
   "source": [
    "# top values of the data-set\n",
    "data.head()"
   ]
  },
  {
   "cell_type": "code",
   "execution_count": 28,
   "id": "2eb145a0",
   "metadata": {
    "execution": {
     "iopub.execute_input": "2021-10-12T16:59:32.425852Z",
     "iopub.status.busy": "2021-10-12T16:59:32.410130Z",
     "iopub.status.idle": "2021-10-12T16:59:32.428580Z",
     "shell.execute_reply": "2021-10-12T16:59:32.429199Z",
     "shell.execute_reply.started": "2021-10-12T16:12:37.846364Z"
    },
    "papermill": {
     "duration": 0.041425,
     "end_time": "2021-10-12T16:59:32.429369",
     "exception": false,
     "start_time": "2021-10-12T16:59:32.387944",
     "status": "completed"
    },
    "tags": []
   },
   "outputs": [
    {
     "data": {
      "text/plain": "positive    25000\nnegative    25000\nName: sentiment, dtype: int64"
     },
     "execution_count": 28,
     "metadata": {},
     "output_type": "execute_result"
    }
   ],
   "source": [
    "# count of unique values in the column\n",
    "data['sentiment'].value_counts()"
   ]
  },
  {
   "cell_type": "markdown",
   "id": "ba513247",
   "metadata": {
    "papermill": {
     "duration": 0.019589,
     "end_time": "2021-10-12T16:59:32.469547",
     "exception": false,
     "start_time": "2021-10-12T16:59:32.449958",
     "status": "completed"
    },
    "tags": []
   },
   "source": [
    "**Data Pre-Processing**"
   ]
  },
  {
   "cell_type": "code",
   "execution_count": 29,
   "id": "a2d6a3ee",
   "metadata": {
    "execution": {
     "iopub.execute_input": "2021-10-12T16:59:32.514241Z",
     "iopub.status.busy": "2021-10-12T16:59:32.513231Z",
     "iopub.status.idle": "2021-10-12T16:59:32.518564Z",
     "shell.execute_reply": "2021-10-12T16:59:32.519176Z",
     "shell.execute_reply.started": "2021-10-12T16:12:58.663227Z"
    },
    "papermill": {
     "duration": 0.029574,
     "end_time": "2021-10-12T16:59:32.519350",
     "exception": false,
     "start_time": "2021-10-12T16:59:32.489776",
     "status": "completed"
    },
    "tags": []
   },
   "outputs": [],
   "source": [
    "def clean_text1(text):\n",
    "    text=re.sub('\\[.*?\\]','',text)\n",
    "    text=re.sub('[%s]'%re.escape(string.punctuation),'',text)\n",
    "    text=re.sub('\\w*\\d\\w*','',text)\n",
    "    return text\n",
    "\n",
    "cleaned1=lambda x:clean_text1(x)"
   ]
  },
  {
   "cell_type": "code",
   "execution_count": 30,
   "id": "3444f6d7",
   "metadata": {
    "execution": {
     "iopub.execute_input": "2021-10-12T16:59:32.562910Z",
     "iopub.status.busy": "2021-10-12T16:59:32.561922Z",
     "iopub.status.idle": "2021-10-12T16:59:48.265484Z",
     "shell.execute_reply": "2021-10-12T16:59:48.264903Z",
     "shell.execute_reply.started": "2021-10-12T16:13:27.788734Z"
    },
    "papermill": {
     "duration": 15.726677,
     "end_time": "2021-10-12T16:59:48.265624",
     "exception": false,
     "start_time": "2021-10-12T16:59:32.538947",
     "status": "completed"
    },
    "tags": []
   },
   "outputs": [],
   "source": [
    "data['review']=pd.DataFrame(data.review.apply(cleaned1))"
   ]
  },
  {
   "cell_type": "code",
   "execution_count": 31,
   "id": "bf752363",
   "metadata": {
    "execution": {
     "iopub.execute_input": "2021-10-12T16:59:48.313833Z",
     "iopub.status.busy": "2021-10-12T16:59:48.312951Z",
     "iopub.status.idle": "2021-10-12T16:59:48.316719Z",
     "shell.execute_reply": "2021-10-12T16:59:48.316245Z",
     "shell.execute_reply.started": "2021-10-12T16:14:52.718647Z"
    },
    "papermill": {
     "duration": 0.0319,
     "end_time": "2021-10-12T16:59:48.316872",
     "exception": false,
     "start_time": "2021-10-12T16:59:48.284972",
     "status": "completed"
    },
    "tags": []
   },
   "outputs": [
    {
     "data": {
      "text/plain": "                                              review sentiment\n0  One of the other reviewers has mentioned that ...  positive\n1  A wonderful little production br br The filmin...  positive\n2  I thought this was a wonderful way to spend ti...  positive\n3  Basically theres a family where a little boy J...  negative\n4  Petter Matteis Love in the Time of Money is a ...  positive",
      "text/html": "<div>\n<style scoped>\n    .dataframe tbody tr th:only-of-type {\n        vertical-align: middle;\n    }\n\n    .dataframe tbody tr th {\n        vertical-align: top;\n    }\n\n    .dataframe thead th {\n        text-align: right;\n    }\n</style>\n<table border=\"1\" class=\"dataframe\">\n  <thead>\n    <tr style=\"text-align: right;\">\n      <th></th>\n      <th>review</th>\n      <th>sentiment</th>\n    </tr>\n  </thead>\n  <tbody>\n    <tr>\n      <th>0</th>\n      <td>One of the other reviewers has mentioned that ...</td>\n      <td>positive</td>\n    </tr>\n    <tr>\n      <th>1</th>\n      <td>A wonderful little production br br The filmin...</td>\n      <td>positive</td>\n    </tr>\n    <tr>\n      <th>2</th>\n      <td>I thought this was a wonderful way to spend ti...</td>\n      <td>positive</td>\n    </tr>\n    <tr>\n      <th>3</th>\n      <td>Basically theres a family where a little boy J...</td>\n      <td>negative</td>\n    </tr>\n    <tr>\n      <th>4</th>\n      <td>Petter Matteis Love in the Time of Money is a ...</td>\n      <td>positive</td>\n    </tr>\n  </tbody>\n</table>\n</div>"
     },
     "execution_count": 31,
     "metadata": {},
     "output_type": "execute_result"
    }
   ],
   "source": [
    "data.head()"
   ]
  },
  {
   "cell_type": "code",
   "execution_count": 32,
   "id": "894c4e31",
   "metadata": {
    "execution": {
     "iopub.execute_input": "2021-10-12T16:59:48.362546Z",
     "iopub.status.busy": "2021-10-12T16:59:48.361843Z",
     "iopub.status.idle": "2021-10-12T16:59:48.364136Z",
     "shell.execute_reply": "2021-10-12T16:59:48.364626Z",
     "shell.execute_reply.started": "2021-10-12T16:15:14.285425Z"
    },
    "papermill": {
     "duration": 0.028334,
     "end_time": "2021-10-12T16:59:48.364798",
     "exception": false,
     "start_time": "2021-10-12T16:59:48.336464",
     "status": "completed"
    },
    "tags": []
   },
   "outputs": [],
   "source": [
    "# second round of cleaning\n",
    "def clean_text2(text):\n",
    "    text=re.sub('[''\"\",,,]','',text)\n",
    "    text=re.sub('\\n','',text)\n",
    "    return text\n",
    "\n",
    "cleaned2=lambda x:clean_text2(x)"
   ]
  },
  {
   "cell_type": "code",
   "execution_count": 33,
   "id": "86a66de0",
   "metadata": {
    "execution": {
     "iopub.execute_input": "2021-10-12T16:59:48.425847Z",
     "iopub.status.busy": "2021-10-12T16:59:48.410197Z",
     "iopub.status.idle": "2021-10-12T16:59:50.204701Z",
     "shell.execute_reply": "2021-10-12T16:59:50.205193Z",
     "shell.execute_reply.started": "2021-10-12T16:15:37.447298Z"
    },
    "papermill": {
     "duration": 1.820659,
     "end_time": "2021-10-12T16:59:50.205371",
     "exception": false,
     "start_time": "2021-10-12T16:59:48.384712",
     "status": "completed"
    },
    "tags": []
   },
   "outputs": [
    {
     "data": {
      "text/plain": "                                              review sentiment\n0  One of the other reviewers has mentioned that ...  positive\n1  A wonderful little production br br The filmin...  positive\n2  I thought this was a wonderful way to spend ti...  positive\n3  Basically theres a family where a little boy J...  negative\n4  Petter Matteis Love in the Time of Money is a ...  positive",
      "text/html": "<div>\n<style scoped>\n    .dataframe tbody tr th:only-of-type {\n        vertical-align: middle;\n    }\n\n    .dataframe tbody tr th {\n        vertical-align: top;\n    }\n\n    .dataframe thead th {\n        text-align: right;\n    }\n</style>\n<table border=\"1\" class=\"dataframe\">\n  <thead>\n    <tr style=\"text-align: right;\">\n      <th></th>\n      <th>review</th>\n      <th>sentiment</th>\n    </tr>\n  </thead>\n  <tbody>\n    <tr>\n      <th>0</th>\n      <td>One of the other reviewers has mentioned that ...</td>\n      <td>positive</td>\n    </tr>\n    <tr>\n      <th>1</th>\n      <td>A wonderful little production br br The filmin...</td>\n      <td>positive</td>\n    </tr>\n    <tr>\n      <th>2</th>\n      <td>I thought this was a wonderful way to spend ti...</td>\n      <td>positive</td>\n    </tr>\n    <tr>\n      <th>3</th>\n      <td>Basically theres a family where a little boy J...</td>\n      <td>negative</td>\n    </tr>\n    <tr>\n      <th>4</th>\n      <td>Petter Matteis Love in the Time of Money is a ...</td>\n      <td>positive</td>\n    </tr>\n  </tbody>\n</table>\n</div>"
     },
     "execution_count": 33,
     "metadata": {},
     "output_type": "execute_result"
    }
   ],
   "source": [
    "data['review']=pd.DataFrame(data.review.apply(cleaned2))\n",
    "data.head()"
   ]
  },
  {
   "cell_type": "code",
   "execution_count": 34,
   "id": "a1235173",
   "metadata": {
    "execution": {
     "iopub.execute_input": "2021-10-12T16:59:50.253510Z",
     "iopub.status.busy": "2021-10-12T16:59:50.248932Z",
     "iopub.status.idle": "2021-10-12T16:59:50.261395Z",
     "shell.execute_reply": "2021-10-12T16:59:50.260898Z",
     "shell.execute_reply.started": "2021-10-12T16:16:05.569442Z"
    },
    "papermill": {
     "duration": 0.036117,
     "end_time": "2021-10-12T16:59:50.261533",
     "exception": false,
     "start_time": "2021-10-12T16:59:50.225416",
     "status": "completed"
    },
    "tags": []
   },
   "outputs": [],
   "source": [
    "x = data.iloc[0:,0].values\n",
    "y = data.iloc[0:,1].values\n",
    "xtrain,xtest,ytrain,ytest = tts(x,y,test_size = 0.25,random_state = 225)"
   ]
  },
  {
   "cell_type": "code",
   "execution_count": 35,
   "id": "97705d6f",
   "metadata": {},
   "outputs": [
    {
     "name": "stdout",
     "output_type": "stream",
     "text": [
      "<class 'list'>\n",
      "['now', 'etc', 'full', 'during', 'please', 'un', 'hereby', 'most', 'yourselves', 'former', 'indeed', 'me', 'same', 'whoever', 'however', 'else', 'before', 'while', 'have', 'three', 'enough', 'by', 'these', 'been', 'must', 'thence', 'none', 'meanwhile', 'a', 'ever', 'take', 'even', 'mostly', 'why', 'system', 'along', 'next', 'everything', 'thru', 'forty', 'formerly', 'whither', 'anyone', 'himself', 'one', 'throughout', 'after', 'was', 'few', 'below', 'her', 'if', 'many', 'already', 'put', 'every', 'twelve', 'that', 'cant', 'well', 'become', 'yours', 'further', 'elsewhere', 'inc', 'except', 'de', 'move', 'bill', 'which', 'since', 'with', 'together', 'perhaps', 'never', 'nor', 'whom', 'seemed', 'thereupon', 'only', 'least', 'rather', 'cannot', 'at', 'among', 'as', 'hasnt', 'around', 'for', 'somewhere', 'those', 'made', 'is', 'nevertheless', 'something', 'him', 'onto', 'this', 'noone', 'six', 'his', 'name', 'each', 'latter', 'always', 'alone', 'against', 'first', 'whereas', 'seem', 'thick', 'myself', 'ltd', 'hundred', 'detail', 'whole', 'he', 'there', 'them', 'becoming', 'us', 'anyway', 'yet', 'hereafter', 'once', 'are', 'very', 'another', 'about', 'our', 'fire', 'serious', 'will', 'someone', 'seems', 'side', 'often', 'hence', 'i', 'until', 'would', 'latterly', 'then', 'themselves', 'were', 'toward', 'on', 'whereby', 'therefore', 'its', 'eleven', 'than', 'through', 'could', 'from', 'describe', 'upon', 'nobody', 'whereafter', 'otherwise', 'two', 'last', 'via', 'or', 'fill', 'everyone', 'other', 'between', 'they', 'but', 'she', 'whence', 'we', 'your', 'therein', 'show', 'fifteen', 'up', 'whose', 'what', 'front', 'down', 'wherein', 'go', 'thereby', 'no', 'due', 'became', 'where', 'to', 'twenty', 'herself', 'although', 'both', 'see', 'done', 'thus', 'herein', 'mill', 'beside', 'ten', 'interest', 'couldnt', 'everywhere', 'of', 'behind', 'anywhere', 'can', 'neither', 'who', 'third', 'cry', 'am', 'an', 'out', 'across', 'towards', 'within', 'should', 'thereafter', 'beyond', 'ours', 'get', 'much', 'again', 'hereupon', 'whether', 'becomes', 'my', 'others', 'ourselves', 'amount', 'under', 'eg', 'less', 'whereupon', 'ie', 're', 'being', 'bottom', 'sincere', 'find', 'fifty', 'too', 'seeming', 'thin', 'sixty', 'eight', 'moreover', 'such', 'do', 'might', 'wherever', 'anyhow', 'nine', 'back', 'may', 'either', 'anything', 'their', 'beforehand', 'though', 'in', 'and', 'part', 'five', 'has', 'found', 'off', 'be', 'yourself', 'any', 'top', 'somehow', 'give', 'call', 'co', 'sometimes', 'afterwards', 'empty', 'four', 'all', 'mine', 'when', 'above', 'hers', 'more', 'it', 'con', 'here', 'namely', 'also', 'into', 'some', 'still', 'so', 'because', 'own', 'keep', 'several', 'nothing', 'you', 'almost', 'besides', 'the', 'amongst', 'itself', 'without', 'sometime', 'whatever', 'nowhere', 'whenever', 'per', 'had', 'over', 'how', 'amoungst']\n"
     ]
    }
   ],
   "source": [
    "all_stopwords = list(text.ENGLISH_STOP_WORDS)\n",
    "print(type(all_stopwords))\n",
    "all_stopwords.remove('not')\n",
    "print(all_stopwords)"
   ]
  },
  {
   "cell_type": "code",
   "execution_count": 36,
   "id": "8c6a9428",
   "metadata": {
    "execution": {
     "iopub.execute_input": "2021-10-12T16:59:50.306789Z",
     "iopub.status.busy": "2021-10-12T16:59:50.306124Z",
     "iopub.status.idle": "2021-10-12T16:59:50.310583Z",
     "shell.execute_reply": "2021-10-12T16:59:50.310062Z",
     "shell.execute_reply.started": "2021-10-12T16:16:18.347719Z"
    },
    "papermill": {
     "duration": 0.028784,
     "end_time": "2021-10-12T16:59:50.310714",
     "exception": false,
     "start_time": "2021-10-12T16:59:50.281930",
     "status": "completed"
    },
    "tags": []
   },
   "outputs": [],
   "source": [
    "tf = TfidfVectorizer(stop_words = all_stopwords)\n",
    "from sklearn.pipeline import Pipeline"
   ]
  },
  {
   "cell_type": "markdown",
   "id": "7e25e6e2",
   "metadata": {
    "papermill": {
     "duration": 0.019959,
     "end_time": "2021-10-12T16:59:50.351229",
     "exception": false,
     "start_time": "2021-10-12T16:59:50.331270",
     "status": "completed"
    },
    "tags": []
   },
   "source": [
    "**Logistic Regression**"
   ]
  },
  {
   "cell_type": "code",
   "execution_count": 37,
   "id": "0685157b",
   "metadata": {
    "execution": {
     "iopub.execute_input": "2021-10-12T16:59:50.394999Z",
     "iopub.status.busy": "2021-10-12T16:59:50.394357Z",
     "iopub.status.idle": "2021-10-12T17:00:07.970133Z",
     "shell.execute_reply": "2021-10-12T17:00:07.970964Z",
     "shell.execute_reply.started": "2021-10-12T16:16:47.441039Z"
    },
    "papermill": {
     "duration": 17.599507,
     "end_time": "2021-10-12T17:00:07.971256",
     "exception": false,
     "start_time": "2021-10-12T16:59:50.371749",
     "status": "completed"
    },
    "tags": []
   },
   "outputs": [
    {
     "data": {
      "text/plain": "Pipeline(steps=[('vectorizer',\n                 TfidfVectorizer(stop_words=['now', 'etc', 'full', 'during',\n                                             'please', 'un', 'hereby', 'most',\n                                             'yourselves', 'former', 'indeed',\n                                             'me', 'same', 'whoever', 'however',\n                                             'else', 'before', 'while', 'have',\n                                             'three', 'enough', 'by', 'these',\n                                             'been', 'must', 'thence', 'none',\n                                             'meanwhile', 'a', 'ever', ...])),\n                ('classifier', LogisticRegression())])"
     },
     "execution_count": 37,
     "metadata": {},
     "output_type": "execute_result"
    }
   ],
   "source": [
    "\n",
    "classifier=LogisticRegression()\n",
    "model=Pipeline([('vectorizer',tf),('classifier',classifier)])\n",
    "\n",
    "model.fit(xtrain,ytrain)"
   ]
  },
  {
   "cell_type": "code",
   "execution_count": 38,
   "id": "a775e28f",
   "metadata": {
    "execution": {
     "iopub.execute_input": "2021-10-12T17:00:08.058787Z",
     "iopub.status.busy": "2021-10-12T17:00:08.058110Z",
     "iopub.status.idle": "2021-10-12T17:00:11.394189Z",
     "shell.execute_reply": "2021-10-12T17:00:11.393613Z",
     "shell.execute_reply.started": "2021-10-12T16:17:35.225379Z"
    },
    "papermill": {
     "duration": 3.384652,
     "end_time": "2021-10-12T17:00:11.394370",
     "exception": false,
     "start_time": "2021-10-12T17:00:08.009718",
     "status": "completed"
    },
    "tags": []
   },
   "outputs": [
    {
     "data": {
      "text/plain": "array(['positive', 'positive', 'negative', ..., 'positive', 'negative',\n       'positive'], dtype=object)"
     },
     "execution_count": 38,
     "metadata": {},
     "output_type": "execute_result"
    }
   ],
   "source": [
    "ypred=model.predict(xtest)\n",
    "ypred"
   ]
  },
  {
   "cell_type": "code",
   "execution_count": 39,
   "id": "78f423ea",
   "metadata": {
    "execution": {
     "iopub.execute_input": "2021-10-12T17:00:11.484015Z",
     "iopub.status.busy": "2021-10-12T17:00:11.480734Z",
     "iopub.status.idle": "2021-10-12T17:00:11.487409Z",
     "shell.execute_reply": "2021-10-12T17:00:11.486915Z",
     "shell.execute_reply.started": "2021-10-12T16:17:50.211616Z"
    },
    "papermill": {
     "duration": 0.071997,
     "end_time": "2021-10-12T17:00:11.487550",
     "exception": false,
     "start_time": "2021-10-12T17:00:11.415553",
     "status": "completed"
    },
    "tags": []
   },
   "outputs": [
    {
     "data": {
      "text/plain": "0.89048"
     },
     "execution_count": 39,
     "metadata": {},
     "output_type": "execute_result"
    }
   ],
   "source": [
    "# model score\n",
    "accuracy_score(ypred,ytest)"
   ]
  },
  {
   "cell_type": "code",
   "execution_count": 40,
   "id": "44b9a978",
   "metadata": {
    "papermill": {
     "duration": 0.021215,
     "end_time": "2021-10-12T17:00:11.728220",
     "exception": false,
     "start_time": "2021-10-12T17:00:11.707005",
     "status": "completed"
    },
    "tags": []
   },
   "outputs": [
    {
     "data": {
      "text/plain": "array(['positive', 'negative', 'negative'], dtype=object)"
     },
     "execution_count": 40,
     "metadata": {},
     "output_type": "execute_result"
    }
   ],
   "source": [
    "predict_this = [\"This is really bad\", \"I fell asleep for the SECOND time watching dune. Not because it’s a bad movie but I just keep watching it when I’m\"]\n",
    "model.predict(predict_this)"
   ]
  },
  {
   "cell_type": "code",
   "execution_count": 41,
   "id": "0db23a1e",
   "metadata": {},
   "outputs": [],
   "source": [
    "filename = 'finalized_model.sav'\n",
    "pickle.dump(model, open(filename, 'wb'))"
   ]
  }
 ],
 "metadata": {
  "kernelspec": {
   "display_name": "Python 3",
   "language": "python",
   "name": "python3"
  },
  "language_info": {
   "codemirror_mode": {
    "name": "ipython",
    "version": 3
   },
   "file_extension": ".py",
   "mimetype": "text/x-python",
   "name": "python",
   "nbconvert_exporter": "python",
   "pygments_lexer": "ipython3",
   "version": "3.8.8"
  },
  "papermill": {
   "default_parameters": {},
   "duration": 51.772309,
   "end_time": "2021-10-12T17:00:13.183111",
   "environment_variables": {},
   "exception": null,
   "input_path": "__notebook__.ipynb",
   "output_path": "__notebook__.ipynb",
   "parameters": {},
   "start_time": "2021-10-12T16:59:21.410802",
   "version": "2.3.3"
  }
 },
 "nbformat": 4,
 "nbformat_minor": 5
}